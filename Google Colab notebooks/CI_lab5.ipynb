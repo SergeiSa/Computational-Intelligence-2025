{
  "nbformat": 4,
  "nbformat_minor": 0,
  "metadata": {
    "colab": {
      "provenance": []
    },
    "kernelspec": {
      "name": "python3",
      "display_name": "Python 3"
    },
    "language_info": {
      "name": "python"
    }
  },
  "cells": [
    {
      "cell_type": "markdown",
      "source": [
        "#**SDP**\n",
        "\n",
        "Consider a system $\\mathbf{\\dot{x}} = \\mathbf{A}\\mathbf{x} + \\mathbf{B}\\mathbf{u}$ and a Lyapunov function $V = \\mathbf{x}^\\top\\mathbf{S}\\mathbf{x}$, $\\mathbf{S} \\succ 0$.\n",
        "We need to find a state feedback controller of the form\n",
        "\\begin{equation}\n",
        "\\mathbf{u} = \\mathbf{K}\\mathbf{x}\n",
        "\\end{equation}\n",
        "such that the closed-loop system namely\n",
        "\\begin{equation}\n",
        "\\begin{gathered}\n",
        "\\mathbf{\\dot{x}} = \\mathbf{(A+BK)}\\mathbf{x}\n",
        "\\end{gathered}\n",
        "\\end{equation} is quadratically stable."
      ],
      "metadata": {
        "id": "UlXPVvpMlPXR"
      }
    },
    {
      "cell_type": "code",
      "source": [
        "import numpy as np\n",
        "import cvxpy as cp\n",
        "\n",
        "size_x = 3\n",
        "size_u = 2\n",
        "\n",
        "np.random.seed(1)\n",
        "\n",
        "# A = np.array([[-2.264, 1.5279, -0.9707], [0.47, -1.1007, 0.3038], [-1.726, 1.585, -0.8657]])\n",
        "# B = np.array([[-0.332, 0.4735], [-0.03225, -0.2292], [-0.23256, 0.415154]])\n",
        "\n",
        "A = np.random.randn(size_x, size_x) - 1*np.eye(size_x)\n",
        "B = 0.3*np.random.randn(size_x, size_u)\n",
        "\n",
        "Q = cp.Variable((size_x, size_x), PSD=True)\n",
        "L = cp.Variable((size_u, size_x))\n",
        "\n",
        "LMI = cp.bmat([[Q @ A.T + A @ Q + L.T @ B.T + B @ L]])\n",
        "\n",
        "constraints = [Q >> 0.0001*np.eye(size_x), LMI << -0.0001*np.eye(size_x)]\n",
        "prob = cp.Problem(cp.Minimize(0), constraints = constraints)\n",
        "\n",
        "result = prob.solve(verbose=False)\n",
        "\n",
        "if result < 1:\n",
        "    K = L.value @ np.linalg.pinv(Q.value)\n",
        "    print(\"State feedback controller gain(K):\")\n",
        "    print(K)\n",
        "else:\n",
        "    print(\"no solution\")"
      ],
      "metadata": {
        "id": "ugxTnz8I2w6h",
        "colab": {
          "base_uri": "https://localhost:8080/"
        },
        "outputId": "b6ce3e99-a183-498c-b56c-9e24a1b08381"
      },
      "execution_count": null,
      "outputs": [
        {
          "output_type": "stream",
          "name": "stdout",
          "text": [
            "State feedback controller gain(K):\n",
            "[[ 0.06935883 -0.16744288 -3.09348623]\n",
            " [-2.4672784   3.26968093 -0.63176859]]\n"
          ]
        }
      ]
    },
    {
      "cell_type": "code",
      "source": [
        "Acl = A + B @ K\n",
        "e1, _ = np.linalg.eig(Acl)\n",
        "print(e1)\n",
        "print(np.linalg.cond(Acl))"
      ],
      "metadata": {
        "colab": {
          "base_uri": "https://localhost:8080/"
        },
        "id": "lEp1mXT7NqEY",
        "outputId": "c645cb7a-0191-47ef-c731-85be6ab3b47f"
      },
      "execution_count": null,
      "outputs": [
        {
          "output_type": "stream",
          "name": "stdout",
          "text": [
            "[-0.42279245+1.16705093j -0.42279245-1.16705093j -0.50427759+0.j        ]\n",
            "2.812375192076276\n"
          ]
        }
      ]
    },
    {
      "cell_type": "code",
      "source": [
        "from scipy.integrate import odeint\n",
        "import matplotlib.pyplot as plt\n",
        "\n",
        "t0 = 0 # Initial time\n",
        "tf = 100 # Final time\n",
        "N = 2E3 # Numbers of points in time span\n",
        "t = np.linspace(t0, tf, int(N)) # Create time span\n",
        "\n",
        "x_0 = np.random.rand(size_x,)\n",
        "\n",
        "def StateSpace(q, t, A, B, K):\n",
        "    x = q\n",
        "    u = K @ x\n",
        "    ddx = A @ x + B @ u\n",
        "    return ddx\n",
        "\n",
        "x_sol = odeint(StateSpace, x_0, t, args=(A, B, K))\n",
        "plt.plot(t, x_sol, linewidth=0.7)\n",
        "plt.ylabel(r'state(x)')\n",
        "plt.grid(True)\n",
        "plt.xlabel(r'Time $t$ (s)')\n",
        "plt.show()"
      ],
      "metadata": {
        "colab": {
          "base_uri": "https://localhost:8080/",
          "height": 451
        },
        "id": "3d4zG1brgiyX",
        "outputId": "6f067660-8278-44e3-afb9-177668ddbf0c"
      },
      "execution_count": null,
      "outputs": [
        {
          "output_type": "display_data",
          "data": {
            "text/plain": [
              "<Figure size 640x480 with 1 Axes>"
            ],
            "image/png": "[encoded data removed]"
          },
          "metadata": {}
        }
      ]
    },
    {
      "cell_type": "markdown",
      "source": [
        "#**Robustness**\n",
        "Let us consider the uncertain time-invariant linear system\n",
        "\\begin{equation*}\n",
        "\\dot{x} = (A+\\Delta A)x + (B+\\Delta B)u\n",
        "\\end{equation*}\n",
        "with\n",
        "\\begin{equation*}\n",
        "(\\Delta A \\quad \\Delta B) = F \\Delta (E_1 \\quad E_2),\n",
        "\\end{equation*}\n",
        "where $u \\in \\mathbb{R}^m$ is the control input, and F, E1, and E2 are weighting matrix-valued functions of suitable dimensions. \\\\\n",
        "The uncertain system can be transformed into the LFT form\n",
        "\\begin{equation}\n",
        "\\begin{gathered}\n",
        "\\dot{x} = Ax+F\\omega+Bu,\\\\\n",
        "z=E_1 x +E_2 u,\\\\\n",
        "\\omega = \\Delta z.\n",
        "\\end{gathered}\n",
        "\\end{equation}\n",
        "\n",
        "We need to find a state feedback controller of the form\n",
        "\\begin{equation}\n",
        "u = Kx\n",
        "\\end{equation}\n",
        "such that  that the closed-loop system namely\n",
        "\\begin{equation}\n",
        "\\begin{gathered}\n",
        "\\dot{x} = (A+BK)x+F\\omega,\\\\\n",
        "z=(E_1 +E_2 K) x,\\\\\n",
        "\\omega = \\Delta z.\n",
        "\\end{gathered}\n",
        "\\end{equation}\n",
        "is quadratically stable.\n",
        "\n",
        "**Final LMI**\n",
        "\\begin{equation}\n",
        "\\begin{gathered}\n",
        "\\begin{pmatrix}\n",
        "    QA^T+AQ +L^TB^T+BL & F & Q E_1^T + L^T E_2^T\\\\\n",
        "    F^T & - I & 0\\\\\n",
        "    E_1 Q + E_2 L & 0 & -I\n",
        "\\end{pmatrix}\n",
        "< 0\n",
        "\\end{gathered}\n",
        "\\end{equation}\n",
        "The controller that solves this problem is $K=LQ^{-1}$"
      ],
      "metadata": {
        "id": "DqZge7-OtTsO"
      }
    },
    {
      "cell_type": "code",
      "source": [
        "import numpy as np\n",
        "import cvxpy as cp\n",
        "\n",
        "np.random.seed(seed=30)\n",
        "\n",
        "size_x = 3\n",
        "size_u = 2\n",
        "\n",
        "A = np.random.randn(size_x, size_x) - 1*np.eye(size_x)\n",
        "B = 0.3*np.random.randn(size_x, size_u)\n",
        "F = 0.1*np.random.randn(size_x, size_x)\n",
        "E1 = 0.1*np.random.randn(size_x, size_x)\n",
        "E2 = 0.1*np.random.randn(size_x, size_u)\n",
        "\n",
        "Q = cp.Variable((size_x, size_x), symmetric=True)\n",
        "L = cp.Variable((size_u, size_x))\n",
        "\n",
        "LMI = cp.bmat([\n",
        "        [Q@A.T + L.T @ B.T + A@Q +B@L, F, Q@E1.T + L.T@E2.T],\n",
        "        [F.T, -np.eye(size_x), np.zeros((size_x,size_x))],\n",
        "        [E1@Q + E2@L, np.zeros((size_x,size_x)), -np.eye(size_x)]\n",
        "          ])\n",
        "\n",
        "constraints = [Q >> 0.0001*np.eye(size_x), LMI << -0.000001*np.eye(3*size_x)]\n",
        "prob = cp.Problem(cp.Minimize(0), constraints=constraints)\n",
        "\n",
        "result = prob.solve()\n",
        "if result < 1:\n",
        "    K = L.value @ np.linalg.pinv(Q.value)\n",
        "    print(\"State feedback controller gain (K):\")\n",
        "    print(K)\n",
        "else:\n",
        "    print(\"no solution\")"
      ],
      "metadata": {
        "id": "xi6BJXpitUWA",
        "colab": {
          "base_uri": "https://localhost:8080/",
          "height": 350
        },
        "outputId": "5e0c6c6e-9ea0-4f77-bd42-df020f64c4c4"
      },
      "execution_count": null,
      "outputs": [
        {
          "output_type": "error",
          "ename": "ValueError",
          "evalue": "Non-square matrix in positive definite constraint.",
          "traceback": [
            "\u001b[0;31m---------------------------------------------------------------------------\u001b[0m",
            "\u001b[0;31mValueError\u001b[0m                                Traceback (most recent call last)",
            "\u001b[0;32m<ipython-input-9-9ce52f33319e>\u001b[0m in \u001b[0;36m<cell line: 0>\u001b[0;34m()\u001b[0m\n\u001b[1;32m     22\u001b[0m           ])\n\u001b[1;32m     23\u001b[0m \u001b[0;34m\u001b[0m\u001b[0m\n\u001b[0;32m---> 24\u001b[0;31m \u001b[0mconstraints\u001b[0m \u001b[0;34m=\u001b[0m \u001b[0;34m[\u001b[0m\u001b[0mQ\u001b[0m \u001b[0;34m>>\u001b[0m \u001b[0;36m0.0001\u001b[0m\u001b[0;34m*\u001b[0m\u001b[0mnp\u001b[0m\u001b[0;34m.\u001b[0m\u001b[0meye\u001b[0m\u001b[0;34m(\u001b[0m\u001b[0msize_x\u001b[0m\u001b[0;34m)\u001b[0m\u001b[0;34m,\u001b[0m \u001b[0mLMI\u001b[0m \u001b[0;34m<<\u001b[0m \u001b[0;34m-\u001b[0m\u001b[0;36m0.000001\u001b[0m\u001b[0;34m*\u001b[0m\u001b[0mnp\u001b[0m\u001b[0;34m.\u001b[0m\u001b[0meye\u001b[0m\u001b[0;34m(\u001b[0m\u001b[0;36m3\u001b[0m\u001b[0;34m*\u001b[0m\u001b[0msize_x\u001b[0m\u001b[0;34m)\u001b[0m\u001b[0;34m,\u001b[0m \u001b[0mL\u001b[0m \u001b[0;34m>>\u001b[0m \u001b[0;36m0\u001b[0m\u001b[0;34m]\u001b[0m\u001b[0;34m\u001b[0m\u001b[0;34m\u001b[0m\u001b[0m\n\u001b[0m\u001b[1;32m     25\u001b[0m \u001b[0mprob\u001b[0m \u001b[0;34m=\u001b[0m \u001b[0mcp\u001b[0m\u001b[0;34m.\u001b[0m\u001b[0mProblem\u001b[0m\u001b[0;34m(\u001b[0m\u001b[0mcp\u001b[0m\u001b[0;34m.\u001b[0m\u001b[0mMinimize\u001b[0m\u001b[0;34m(\u001b[0m\u001b[0;36m0\u001b[0m\u001b[0;34m)\u001b[0m\u001b[0;34m,\u001b[0m \u001b[0mconstraints\u001b[0m\u001b[0;34m=\u001b[0m\u001b[0mconstraints\u001b[0m\u001b[0;34m)\u001b[0m\u001b[0;34m\u001b[0m\u001b[0;34m\u001b[0m\u001b[0m\n\u001b[1;32m     26\u001b[0m \u001b[0;34m\u001b[0m\u001b[0m\n",
            "\u001b[0;32m/usr/local/lib/python3.11/dist-packages/cvxpy/expressions/expression.py\u001b[0m in \u001b[0;36mcast_op\u001b[0;34m(self, other)\u001b[0m\n\u001b[1;32m     49\u001b[0m         \"\"\"\n\u001b[1;32m     50\u001b[0m         \u001b[0mother\u001b[0m \u001b[0;34m=\u001b[0m \u001b[0mself\u001b[0m\u001b[0;34m.\u001b[0m\u001b[0mcast_to_const\u001b[0m\u001b[0;34m(\u001b[0m\u001b[0mother\u001b[0m\u001b[0;34m)\u001b[0m\u001b[0;34m\u001b[0m\u001b[0;34m\u001b[0m\u001b[0m\n\u001b[0;32m---> 51\u001b[0;31m         \u001b[0;32mreturn\u001b[0m \u001b[0mbinary_op\u001b[0m\u001b[0;34m(\u001b[0m\u001b[0mself\u001b[0m\u001b[0;34m,\u001b[0m \u001b[0mother\u001b[0m\u001b[0;34m)\u001b[0m\u001b[0;34m\u001b[0m\u001b[0;34m\u001b[0m\u001b[0m\n\u001b[0m\u001b[1;32m     52\u001b[0m     \u001b[0;32mreturn\u001b[0m \u001b[0mcast_op\u001b[0m\u001b[0;34m\u001b[0m\u001b[0;34m\u001b[0m\u001b[0m\n\u001b[1;32m     53\u001b[0m \u001b[0;34m\u001b[0m\u001b[0m\n",
            "\u001b[0;32m/usr/local/lib/python3.11/dist-packages/cvxpy/expressions/expression.py\u001b[0m in \u001b[0;36m__rshift__\u001b[0;34m(self, other)\u001b[0m\n\u001b[1;32m    746\u001b[0m         \"\"\"PSD : Creates a positive semidefinite inequality.\n\u001b[1;32m    747\u001b[0m         \"\"\"\n\u001b[0;32m--> 748\u001b[0;31m         \u001b[0;32mreturn\u001b[0m \u001b[0mPSD\u001b[0m\u001b[0;34m(\u001b[0m\u001b[0mself\u001b[0m \u001b[0;34m-\u001b[0m \u001b[0mother\u001b[0m\u001b[0;34m)\u001b[0m\u001b[0;34m\u001b[0m\u001b[0;34m\u001b[0m\u001b[0m\n\u001b[0m\u001b[1;32m    749\u001b[0m \u001b[0;34m\u001b[0m\u001b[0m\n\u001b[1;32m    750\u001b[0m     \u001b[0;34m@\u001b[0m\u001b[0m_cast_other\u001b[0m\u001b[0;34m\u001b[0m\u001b[0;34m\u001b[0m\u001b[0m\n",
            "\u001b[0;32m/usr/local/lib/python3.11/dist-packages/cvxpy/constraints/psd.py\u001b[0m in \u001b[0;36m__init__\u001b[0;34m(self, expr, constr_id)\u001b[0m\n\u001b[1;32m     50\u001b[0m         \u001b[0;31m# Argument must be square matrix.\u001b[0m\u001b[0;34m\u001b[0m\u001b[0;34m\u001b[0m\u001b[0m\n\u001b[1;32m     51\u001b[0m         \u001b[0;32mif\u001b[0m \u001b[0mlen\u001b[0m\u001b[0;34m(\u001b[0m\u001b[0mexpr\u001b[0m\u001b[0;34m.\u001b[0m\u001b[0mshape\u001b[0m\u001b[0;34m)\u001b[0m \u001b[0;34m!=\u001b[0m \u001b[0;36m2\u001b[0m \u001b[0;32mor\u001b[0m \u001b[0mexpr\u001b[0m\u001b[0;34m.\u001b[0m\u001b[0mshape\u001b[0m\u001b[0;34m[\u001b[0m\u001b[0;36m0\u001b[0m\u001b[0;34m]\u001b[0m \u001b[0;34m!=\u001b[0m \u001b[0mexpr\u001b[0m\u001b[0;34m.\u001b[0m\u001b[0mshape\u001b[0m\u001b[0;34m[\u001b[0m\u001b[0;36m1\u001b[0m\u001b[0;34m]\u001b[0m\u001b[0;34m:\u001b[0m\u001b[0;34m\u001b[0m\u001b[0;34m\u001b[0m\u001b[0m\n\u001b[0;32m---> 52\u001b[0;31m             raise ValueError(\n\u001b[0m\u001b[1;32m     53\u001b[0m                 \u001b[0;34m\"Non-square matrix in positive definite constraint.\"\u001b[0m\u001b[0;34m\u001b[0m\u001b[0;34m\u001b[0m\u001b[0m\n\u001b[1;32m     54\u001b[0m             )\n",
            "\u001b[0;31mValueError\u001b[0m: Non-square matrix in positive definite constraint."
          ]
        }
      ]
    },
    {
      "cell_type": "code",
      "source": [
        "# Here we randomize different uncertainties in the system and check the stability\n",
        "stable_systems = 0\n",
        "max_eig = []\n",
        "\n",
        "# Interval of Deltas values\n",
        "delta_min, delta_max = -1, 1\n",
        "numDelta = 1000\n",
        "\n",
        "for i in range(numDelta):\n",
        "    Delta = np.diag((delta_max - delta_min)*np.random.rand(size_x, ) + delta_min)\n",
        "    # Checking eigenvalues to prove stability\n",
        "    Acl = A + B @ K + F @ Delta @ (E1 + E2 @ K)\n",
        "\n",
        "    e1, _ = np.linalg.eig(Acl)\n",
        "    max_eig.append(np.max(e1))\n",
        "\n",
        "    eigNeg = len(list(filter(lambda x: x.real < 0, e1)))\n",
        "    if eigNeg == len(e1):\n",
        "        stable_systems += 1\n",
        "\n",
        "print(\"max eig\")\n",
        "print(np.max(max_eig))\n",
        "print(\"Percentage of stable systems:\", 100*stable_systems/numDelta)"
      ],
      "metadata": {
        "colab": {
          "base_uri": "https://localhost:8080/"
        },
        "id": "CF4tcFjxYw1T",
        "outputId": "3cb5fb57-e789-4e19-d6f9-ec849a2bc89a"
      },
      "execution_count": null,
      "outputs": [
        {
          "output_type": "stream",
          "name": "stdout",
          "text": [
            "max eig\n",
            "-0.07903085200000547\n",
            "Percentage of stable systems: 100.0\n"
          ]
        }
      ]
    },
    {
      "cell_type": "code",
      "source": [],
      "metadata": {
        "id": "J0G6gwrbY2lm"
      },
      "execution_count": null,
      "outputs": []
    }
  ]
}