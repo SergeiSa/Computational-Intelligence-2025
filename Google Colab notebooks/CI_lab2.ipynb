{
  "nbformat": 4,
  "nbformat_minor": 0,
  "metadata": {
    "colab": {
      "provenance": []
    },
    "kernelspec": {
      "name": "python3",
      "display_name": "Python 3"
    },
    "language_info": {
      "name": "python"
    }
  },
  "cells": [
    {
      "cell_type": "markdown",
      "source": [
        "#**Quadratic Programming**\n",
        "\n",
        "A quadratic program is an optimization problem with a quadratic objective and affine equality and inequality constraints. A common standard form is the following:\n",
        "\n",
        "\\begin{equation}\n",
        "\\begin{aligned}\n",
        "\\min_{x} \\quad & \\frac{1}{2}x^{T}Px + q^Tx \\\\\n",
        "\\textrm{s.t.} \\quad & Gx \\leq h\\\\\n",
        "& Ax =b\n",
        "\\end{aligned}\n",
        "\\end{equation}\n",
        "\n",
        "Concider the following optimizational problem\n",
        "\\begin{equation}\n",
        "\\begin{aligned}\n",
        "\\min_{x} \\quad & (x_1+x_2-8)^2\\\\\n",
        "\\textrm{s.t.} \\quad & x_1-x_2\\leq -6\\\\\n",
        "\\end{aligned}\n",
        "\\end{equation}\n",
        "\n",
        "We need to rewrite the quadratic equation in the proper matrix equation as above.\n",
        "First, consider the matrix notation for a general quadratic function of two variables: $x_1$ and $x_2$:\n",
        "\n",
        "\\begin{equation}\n",
        "\\begin{aligned}\n",
        "x = \\begin{bmatrix} x_1 \\\\ x_2 \\end{bmatrix} \\quad\n",
        "P = \\begin{bmatrix} p_{11} & p_{12} \\\\ p_{21} & p_{22} \\end{bmatrix} \\quad\n",
        "q^T = \\begin{bmatrix} q_1 & q_2 \\end{bmatrix}\n",
        "\\end{aligned}\n",
        "\\end{equation}\n",
        "\n",
        "Second we can extract the matrix $P$ and vector $q^T$ by parameter mapping\n",
        "\n",
        "\\begin{equation}\n",
        "\\begin{aligned}\n",
        "\\frac{1}{2}x^{T}Px + q^Tx = & \\frac{1}{2}\n",
        "\\begin{bmatrix} x_1 & x_2 \\end{bmatrix}\n",
        "\\begin{bmatrix} p_{11} & p_{12} \\\\ p_{21} & p_{22} \\end{bmatrix}\n",
        "\\begin{bmatrix} x_1 \\\\ x_2 \\end{bmatrix}+\n",
        "\\begin{bmatrix} q_1 & q_2 \\end{bmatrix}\n",
        "\\begin{bmatrix} x_1 \\\\ x_2 \\end{bmatrix}=\\\\\n",
        "& \\frac{1}{2}(p_{11}x_1^2+p_{22}x_2^2 +(p_{12}+p_{21})x_1x_2)+q_1x_1+q_2x_2\n",
        "\\end{aligned}\n",
        "\\end{equation}\n",
        "\n",
        "\\begin{equation}\n",
        "\\begin{aligned}\n",
        "(x_1+x_2-8)^2 = x_1^2+x_2^2+2x_1x_2-16x_1-16x_2+64\n",
        "\\end{aligned}\n",
        "\\end{equation}\n",
        "\n",
        "\\begin{equation}\n",
        "\\begin{aligned}\n",
        "P = \\begin{bmatrix} p_{11} & p_{12} \\\\ p_{21} & p_{22} \\end{bmatrix} =\n",
        "\\begin{bmatrix} 2 & 2 \\\\ 2 & 2 \\end{bmatrix} \\\\\n",
        "q^T = \\begin{bmatrix} q_1 & q_2 \\end{bmatrix} =\n",
        "\\begin{bmatrix} -16 & -16 \\end{bmatrix}\n",
        "\\end{aligned}\n",
        "\\end{equation}\n",
        "\n",
        "Similarly, the constraint matrix $G$ and the vector $h$ can be found:\n",
        "\n",
        "\\begin{equation}\n",
        "\\begin{aligned}\n",
        "G = \\begin{bmatrix} g_{11} & g_{12}  \\end{bmatrix} =\n",
        "\\begin{bmatrix} 1 & -1 \\end{bmatrix} \\\\\n",
        "h=\\begin{bmatrix} -6 \\end{bmatrix}\n",
        "\\end{aligned}\n",
        "\\end{equation}\n",
        "\n",
        "**Code and output**"
      ],
      "metadata": {
        "id": "UlXPVvpMlPXR"
      }
    },
    {
      "cell_type": "code",
      "source": [
        "import cvxpy as cp\n",
        "import numpy as np\n",
        "\n",
        "size_x = 2\n",
        "\n",
        "P = np.array([[2, 2], [2, 2]])\n",
        "q = np.array([[-16],[-16]])\n",
        "G = np.array([[1, -1]])\n",
        "h = np.array([[-6]])\n",
        "\n",
        "x = cp.Variable(size_x)\n",
        "prob = cp.Problem(cp.Minimize((1/2)*cp.quad_form(x, P) + q.T @ x),\n",
        "                 [G @ x <= h])\n",
        "prob.solve(verbose=True)\n",
        "# Print result.\n",
        "print(\"\\nThe optimal value is\", prob.value)\n",
        "print(\"A solution x is\")\n",
        "print(x.value)"
      ],
      "metadata": {
        "colab": {
          "base_uri": "https://localhost:8080/"
        },
        "id": "ugxTnz8I2w6h",
        "outputId": "c3ee34c7-cbe0-4da0-a6f7-e5aa993cb3ac"
      },
      "execution_count": null,
      "outputs": [
        {
          "output_type": "stream",
          "name": "stdout",
          "text": [
            "===============================================================================\n",
            "                                     CVXPY                                     \n",
            "                                     v1.6.4                                    \n",
            "===============================================================================\n",
            "(CVXPY) Mar 26 03:49:55 PM: Your problem has 2 variables, 1 constraints, and 0 parameters.\n",
            "(CVXPY) Mar 26 03:49:55 PM: It is compliant with the following grammars: DCP, DQCP\n",
            "(CVXPY) Mar 26 03:49:55 PM: (If you need to solve this problem multiple times, but with different data, consider using parameters.)\n",
            "(CVXPY) Mar 26 03:49:55 PM: CVXPY will first compile your problem; then, it will invoke a numerical solver to obtain a solution.\n",
            "(CVXPY) Mar 26 03:49:55 PM: Your problem is compiled with the CPP canonicalization backend.\n",
            "-------------------------------------------------------------------------------\n",
            "                                  Compilation                                  \n",
            "-------------------------------------------------------------------------------\n",
            "(CVXPY) Mar 26 03:49:55 PM: Compiling problem (target solver=OSQP).\n",
            "(CVXPY) Mar 26 03:49:55 PM: Reduction chain: CvxAttr2Constr -> Qp2SymbolicQp -> QpMatrixStuffing -> OSQP\n",
            "(CVXPY) Mar 26 03:49:55 PM: Applying reduction CvxAttr2Constr\n",
            "(CVXPY) Mar 26 03:49:55 PM: Applying reduction Qp2SymbolicQp\n",
            "(CVXPY) Mar 26 03:49:55 PM: Applying reduction QpMatrixStuffing\n",
            "(CVXPY) Mar 26 03:49:55 PM: Applying reduction OSQP\n",
            "(CVXPY) Mar 26 03:49:55 PM: Finished problem compilation (took 5.731e-02 seconds).\n",
            "-------------------------------------------------------------------------------\n",
            "                                Numerical solver                               \n",
            "-------------------------------------------------------------------------------\n",
            "(CVXPY) Mar 26 03:49:55 PM: Invoking solver OSQP  to obtain a solution.\n",
            "-----------------------------------------------------------------\n",
            "           OSQP v0.6.3  -  Operator Splitting QP Solver\n",
            "              (c) Bartolomeo Stellato,  Goran Banjac\n",
            "        University of Oxford  -  Stanford University 2021\n",
            "-----------------------------------------------------------------\n",
            "problem:  variables n = 2, constraints m = 1\n",
            "          nnz(P) + nnz(A) = 5\n",
            "settings: linear system solver = qdldl,\n",
            "          eps_abs = 1.0e-05, eps_rel = 1.0e-05,\n",
            "          eps_prim_inf = 1.0e-04, eps_dual_inf = 1.0e-04,\n",
            "          rho = 1.00e-01 (adaptive),\n",
            "          sigma = 1.00e-06, alpha = 1.60, max_iter = 10000\n",
            "          check_termination: on (interval 25),\n",
            "          scaling: on, scaled_termination: off\n",
            "          warm start: on, polish: on, time_limit: off\n",
            "\n",
            "iter   objective    pri res    dua res    rho        time\n",
            "   1  -4.0961e+01   6.00e+00   2.10e+01   1.00e-01   5.03e-05s\n",
            "  25  -6.4000e+01   7.58e-05   4.55e-05   1.00e-01   8.09e-05s\n",
            "\n",
            "status:               solved\n",
            "solution polish:      unsuccessful\n",
            "number of iterations: 25\n",
            "optimal objective:    -64.0000\n",
            "run time:             1.19e-04s\n",
            "optimal rho estimate: 1.67e-01\n",
            "\n",
            "-------------------------------------------------------------------------------\n",
            "                                    Summary                                    \n",
            "-------------------------------------------------------------------------------\n",
            "(CVXPY) Mar 26 03:49:55 PM: Problem status: optimal\n",
            "(CVXPY) Mar 26 03:49:55 PM: Optimal value: -6.400e+01\n",
            "(CVXPY) Mar 26 03:49:55 PM: Compilation took 5.731e-02 seconds\n",
            "(CVXPY) Mar 26 03:49:55 PM: Solver (including time spent in interface) took 4.564e-03 seconds\n",
            "\n",
            "The optimal value is -63.99999999948304\n",
            "A solution x is\n",
            "[-0.79992672  8.79994946]\n"
          ]
        }
      ]
    },
    {
      "cell_type": "markdown",
      "source": [
        "Therefore, when $x_1 = -0.8$ and $x_2 = 8.8$ the quadratic function is minimized (-64 + 64 = 0, don’t forget the constant 64)."
      ],
      "metadata": {
        "id": "xdxbjFIFf962"
      }
    },
    {
      "cell_type": "code",
      "source": [
        "print((x.value[0]+x.value[1]-8)*(x.value[0]+x.value[1]-8))\n",
        "print(x.value[0]-x.value[1])"
      ],
      "metadata": {
        "colab": {
          "base_uri": "https://localhost:8080/"
        },
        "id": "3d4zG1brgiyX",
        "outputId": "d43aa643-afa7-4995-b9f0-0d3d65207754"
      },
      "execution_count": null,
      "outputs": [
        {
          "output_type": "stream",
          "name": "stdout",
          "text": [
            "5.169720269488514e-10\n",
            "-9.599876186517633\n"
          ]
        }
      ]
    },
    {
      "cell_type": "markdown",
      "source": [
        "Some other libraries to solve QP problems (quadprog, solveQP)"
      ],
      "metadata": {
        "id": "KHO1s2yT27aQ"
      }
    },
    {
      "cell_type": "code",
      "source": [
        "!pip install qpsolvers\n",
        "from qpsolvers import solve_qp"
      ],
      "metadata": {
        "colab": {
          "base_uri": "https://localhost:8080/"
        },
        "id": "MfKALRO51BHN",
        "outputId": "a265590e-f462-49dd-b5ad-5ef8713a41d9"
      },
      "execution_count": null,
      "outputs": [
        {
          "output_type": "stream",
          "name": "stdout",
          "text": [
            "Collecting qpsolvers\n",
            "  Downloading qpsolvers-4.3.1-py3-none-any.whl (78 kB)\n",
            "\u001b[2K     \u001b[90m━━━━━━━━━━━━━━━━━━━━━━━━━━━━━━━━━━━━━━━━\u001b[0m \u001b[32m78.7/78.7 kB\u001b[0m \u001b[31m1.2 MB/s\u001b[0m eta \u001b[36m0:00:00\u001b[0m\n",
            "\u001b[?25hRequirement already satisfied: numpy>=1.15.4 in /usr/local/lib/python3.10/dist-packages (from qpsolvers) (1.23.5)\n",
            "Requirement already satisfied: scipy>=1.2.0 in /usr/local/lib/python3.10/dist-packages (from qpsolvers) (1.11.4)\n",
            "Installing collected packages: qpsolvers\n",
            "Successfully installed qpsolvers-4.3.1\n"
          ]
        }
      ]
    },
    {
      "cell_type": "code",
      "source": [
        "x = solve_qp(P, q, G, h, A=None, b=None, solver=\"osqp\")\n",
        "print(f\"QP solution: x = {x}\")"
      ],
      "metadata": {
        "colab": {
          "base_uri": "https://localhost:8080/"
        },
        "id": "VyESNpit1zus",
        "outputId": "8c6d8e67-c1c1-43a6-982b-f6fc951e61b3"
      },
      "execution_count": null,
      "outputs": [
        {
          "output_type": "stream",
          "name": "stdout",
          "text": [
            "QP solution: x = [-0.79992672  8.79994946]\n"
          ]
        },
        {
          "output_type": "stream",
          "name": "stderr",
          "text": [
            "/usr/local/lib/python3.10/dist-packages/qpsolvers/conversions/ensure_sparse_matrices.py:24: UserWarning: Converted P to scipy.sparse.csc.csc_matrix\n",
            "For best performance, build P as a scipy.sparse.csc_matrix rather than as a numpy.ndarray\n",
            "  warnings.warn(\n",
            "/usr/local/lib/python3.10/dist-packages/qpsolvers/conversions/ensure_sparse_matrices.py:24: UserWarning: Converted G to scipy.sparse.csc.csc_matrix\n",
            "For best performance, build G as a scipy.sparse.csc_matrix rather than as a numpy.ndarray\n",
            "  warnings.warn(\n"
          ]
        }
      ]
    },
    {
      "cell_type": "markdown",
      "source": [
        "## **Task 1**\n",
        "Concider the following minimization problem\n",
        "\\begin{equation}\n",
        "\\begin{aligned}\n",
        "\\min_{x} \\quad & (Ax-b)^T(Ax-b)\\\\\n",
        "\\textrm{s.t.} \\quad & Gx \\leq h\\\\\n",
        "\\end{aligned}\n",
        "\\end{equation}\n",
        "1. Firstly, lets consider this problem without constrains and try to solve it analytically and then as well as QP problem and compare the results. Take\n",
        "\\begin{equation}\n",
        "\\begin{aligned}\n",
        "A = \\begin{bmatrix} 1 & 1 \\\\ 2 & 1 \\\\ 3 & 2 \\end{bmatrix} \\quad\n",
        "b = \\begin{bmatrix} 2 \\\\ 3 \\\\ 4 \\end{bmatrix}\n",
        "\\end{aligned}\n",
        "\\end{equation}\n",
        "2. Then add the constraints $-0.9\\leq x \\leq 0.9$ and solve again"
      ],
      "metadata": {
        "id": "IfbJHXkJpWge"
      }
    },
    {
      "cell_type": "code",
      "source": [
        "# The analytical solution to Ax = b\n",
        "A = np.array([[1,1],[2,1],[3,2]])\n",
        "b = np.array([[2], [3], [4]])\n",
        "x_projected = np.dot(np.linalg.pinv(A),b)\n",
        "print(\"The analytical solution to Ax = b \\n\", x_projected)\n",
        "\n",
        "# Solving as a QP problem\n",
        "x = cp.Variable((2,1))\n",
        "I = np.identity(3)\n",
        "obj = cp.Minimize(cp.quad_form(A@x-b, I))\n",
        "prob = cp.Problem(obj)\n",
        "result = prob.solve()\n",
        "print(\" Solving as a QP problem: \\n\", x.value)\n",
        "\n",
        "# Adding some linear constraints\n",
        "constraints = [ -0.9 <= x, x <= 0.9]\n",
        "prob = cp.Problem(obj, constraints)\n",
        "result = prob.solve()\n",
        "print(\"After constraint x on -0.9 <= x, x <= 0.9 \\n\", x.value)"
      ],
      "metadata": {
        "id": "PsY-ry1HtORS",
        "colab": {
          "base_uri": "https://localhost:8080/"
        },
        "outputId": "42b744dd-623a-4328-d36a-7cbd392399a5"
      },
      "execution_count": null,
      "outputs": [
        {
          "output_type": "stream",
          "name": "stdout",
          "text": [
            "The analytical solution to Ax = b \n",
            " [[1.        ]\n",
            " [0.66666667]]\n",
            " Solving as a QP problem: \n",
            " [[1.        ]\n",
            " [0.66666667]]\n",
            "After constraint x on -0.9 <= x, x <= 0.9 \n",
            " [[0.9       ]\n",
            " [0.81666667]]\n"
          ]
        }
      ]
    },
    {
      "cell_type": "markdown",
      "source": [
        "## Task 2. Least squares estimation\n",
        "\n",
        "A sphere is described by $\\{ x \\in \\mathbb{R}^n \\mid \\left \\| x - x_c \\right \\|_2 = r\\}$. Let's try to fit a sphere in $\\mathbb{R}^n$ for a given $m$ number of points ($u_1, u_2,...,u_m \\in \\mathbb{R}^n$), by minimizing the following error function:\n",
        "\\begin{equation}\n",
        "    \\sum_{i=1}^m (\\left \\| u_i -x_c \\right \\|_2^2-r^2)^2\n",
        "\\end{equation} over the variables $x_c \\in \\mathbb{R}^n, \\; r \\in \\mathbb{R}$.\n",
        "Using CVXPY formulate the latter equation for $\\mathbb{R}^2$ where $m$ number of points can be generated as follows:"
      ],
      "metadata": {
        "id": "Fr2AvJYl3R-l"
      }
    },
    {
      "cell_type": "code",
      "source": [
        "import matplotlib.pyplot as plt\n",
        "import random\n",
        "\n",
        "# Generate the points\n",
        "npoints = 50\n",
        "r = 1\n",
        "c1 = (3, 4)\n",
        "plt.figure(figsize=(5,5))\n",
        "t = np.linspace(0, 2*np.pi, npoints, endpoint=False)\n",
        "x = c1[0] + r * np.cos(t) + np.random.uniform(-0.2,0.2,t.shape[0])\n",
        "y = c1[1] + r * np.sin(t) + np.random.uniform(-0.2,0.2,t.shape[0])\n",
        "plt.scatter(x, y, c='0.8')\n",
        "U = np.vstack((x,y))\n",
        "\n",
        "cx = cp.Variable()\n",
        "cy = cp.Variable()\n",
        "obj = cp.Minimize(cp.norm(cp.vstack((U[0,:] - cx, U[1,:] - cy))))\n",
        "prob = cp.Problem(obj, [])\n",
        "prob.solve()\n",
        "\n",
        "xc = np.array([cx.value, cy.value])\n",
        "print(xc)\n",
        "r_hat = (U.T - xc)\n",
        "mean_r = np.sum(r_hat * r_hat, axis=1).mean()\n",
        "r = np.sqrt(mean_r)\n",
        "\n",
        "ax = plt.gca()\n",
        "ax.clear()\n",
        "circle = plt.Circle(xc, r, fill=False)\n",
        "ax.add_patch(circle)\n",
        "plt.scatter(U[0,:], U[1,:])\n",
        "plt.scatter([xc[0]], [xc[1]], color=\"r\")\n",
        "plt.show()"
      ],
      "metadata": {
        "colab": {
          "base_uri": "https://localhost:8080/",
          "height": 462
        },
        "id": "Dr_P982XwWng",
        "outputId": "0fced53b-247c-414e-d333-94269ffc8df2"
      },
      "execution_count": null,
      "outputs": [
        {
          "output_type": "stream",
          "name": "stdout",
          "text": [
            "[2.97370876 4.01670885]\n"
          ]
        },
        {
          "output_type": "display_data",
          "data": {
            "text/plain": [
              "<Figure size 500x500 with 1 Axes>"
            ],
            "image/png": "[encoded data removed]"
          },
          "metadata": {}
        }
      ]
    },
    {
      "cell_type": "markdown",
      "source": [
        "To help to solve this task:\n",
        "\\begin{equation}\n",
        "r^2  = \\frac{1}{m} \\sum_{i=1}^m  \\left \\| u_i -x_c \\right \\|_2^2\n",
        "\\end{equation}\n",
        "Formulate the problem as a least squares problem in the form : $\\min_x \\left \\| Ax -b \\right \\|_2^2$."
      ],
      "metadata": {
        "id": "lilAqE_Vi1xN"
      }
    }
  ]
}