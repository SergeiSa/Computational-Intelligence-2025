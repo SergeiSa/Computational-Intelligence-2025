{
  "nbformat": 4,
  "nbformat_minor": 0,
  "metadata": {
    "colab": {
      "provenance": []
    },
    "kernelspec": {
      "name": "python3",
      "display_name": "Python 3"
    },
    "language_info": {
      "name": "python"
    }
  },
  "cells": [
    {
      "cell_type": "markdown",
      "source": [
        "#**Polyhedron representation**\n",
        "\n",
        "A convex polytope is a special case of a polytope, having the additional property that it is also a convex set contained in the $n$-dimensional Euclidean space $\\mathbb {R}^{n}$.\n",
        "\n",
        "> A convex polytope may be defined as an intersection of a finite number of half-spaces. Such definition is called a half-space representation ($H$-representation or $H$-description). This can be concisely written as the matrix inequality:\n",
        "\\begin{equation}\n",
        "A x \\leq b\n",
        "\\end{equation}\n",
        "where $A$ is an $m\\times n$ matrix, $x$ is an ${\\displaystyle n\\times 1}$ column vector whose coordinates are the variables $x_{1}$ to $x_{n}$, and $b$ is an ${\\displaystyle m\\times 1}$ column vector whose coordinates are the right-hand sides $b_{1}$ to $b_{m}$ of the scalar inequalities.\n",
        "\n",
        ">A convex polytope may be defined as the convex hull of its vertices + the conic hull of its rays where '+' is the Minkowski sum. This is equivalent to defining a bounded convex polytope as the convex hull of a finite set of points, where the finite set must contain the set of extreme points of the polytope. This representation is called $V$-representation and can be written\n",
        "\\begin{equation}\n",
        "x=conv(V)+coni(R)\n",
        "\\end{equation}\n",
        "where $conv$ denotes the convex hull of a set of vertices $V=\\{v_1, ... ,v_p\\}$:\n",
        "\\begin{equation}\n",
        "conv(V) = \\Bigl\\{ \\sum_{i=1}^{p} α_i v_i \\quad \\textrm{s.t.} \\quad \\forall i, \\alpha_i \\geq 0, \\sum_{i=1}^{p} α_i =1 \\Bigr\\}\n",
        "\\end{equation}\n",
        "while $coni$ is the conical hull os a set of rays $R=\\{r_1,...,r_q\\}$:\n",
        "\\begin{equation}\n",
        "coni(R) = \\Bigl\\{ \\sum_{j=1}^{q} \\lambda_i r_i \\quad \\textrm{s.t.} \\quad \\forall j, \\lambda_i \\geq 0 \\Bigr\\}\n",
        "\\end{equation}\n",
        "\n",
        "**Example**\n",
        "\n",
        "$H$-representation\n",
        "\\begin{equation}\n",
        "\\begin{aligned}\n",
        "\\begin{bmatrix} 0 & 1 \\\\ 5 & -2\\\\ -1 & -3\\\\-4 & -2 \\end{bmatrix}\n",
        "\\begin{bmatrix} x\\\\y \\end{bmatrix} \\leq\n",
        "\\begin{bmatrix} 7 \\\\ 36 \\\\ -14 \\\\ -26 \\end{bmatrix}\n",
        "\\end{aligned}\n",
        "\\end{equation}\n",
        "\n",
        "$V$-representation\n",
        "\\begin{equation}\n",
        "V=\\{(3,7),(10,7),(8,2),(5,3)\\}\n",
        "\\end{equation}\n",
        "\n",
        "*Theorem (Minkowski and Weyl)*: any polyhedron can be equivalently described in halfspace or vertex representation. That is, for any set\n",
        "$P = \\{ x \\, | \\, A x \\leq b\\}$, there exists two sets $V$ and $R$ such that $P=conv(V)+coni(R)$, and conversely."
      ],
      "metadata": {
        "id": "QnHugGQkaW5G"
      }
    },
    {
      "cell_type": "code",
      "source": [
        "!pip install polytope"
      ],
      "metadata": {
        "colab": {
          "base_uri": "https://localhost:8080/"
        },
        "id": "ev8mFpvzxD2K",
        "outputId": "e2a9fd39-e37f-41f6-b8bc-c98878c62613"
      },
      "execution_count": null,
      "outputs": [
        {
          "output_type": "stream",
          "name": "stdout",
          "text": [
            "Collecting polytope\n",
            "  Downloading polytope-0.2.5.tar.gz (54 kB)\n",
            "\u001b[?25l     \u001b[90m━━━━━━━━━━━━━━━━━━━━━━━━━━━━━━━━━━━━━━━━\u001b[0m \u001b[32m0.0/54.9 kB\u001b[0m \u001b[31m?\u001b[0m eta \u001b[36m-:--:--\u001b[0m\r\u001b[2K     \u001b[90m━━━━━━━━━━━━━━━━━━━━━━━━━━━━━━━━━━━━━━━━\u001b[0m \u001b[32m54.9/54.9 kB\u001b[0m \u001b[31m2.1 MB/s\u001b[0m eta \u001b[36m0:00:00\u001b[0m\n",
            "\u001b[?25h  Preparing metadata (setup.py) ... \u001b[?25l\u001b[?25hdone\n",
            "Requirement already satisfied: networkx>=3.0 in /usr/local/lib/python3.11/dist-packages (from polytope) (3.4.2)\n",
            "Requirement already satisfied: numpy>=1.24.1 in /usr/local/lib/python3.11/dist-packages (from polytope) (2.0.2)\n",
            "Requirement already satisfied: scipy>=1.10.0 in /usr/local/lib/python3.11/dist-packages (from polytope) (1.14.1)\n",
            "Building wheels for collected packages: polytope\n",
            "  Building wheel for polytope (setup.py) ... \u001b[?25l\u001b[?25hdone\n",
            "  Created wheel for polytope: filename=polytope-0.2.5-py3-none-any.whl size=47765 sha256=8f3c655d781bfdfbbc483abedfe6d17ff293a03463264c95f68b63718a5e2efd\n",
            "  Stored in directory: /root/.cache/pip/wheels/0a/dc/7c/19db8e9a73e1a551591347b185108f137877f9638ee8f8e3cc\n",
            "Successfully built polytope\n",
            "Installing collected packages: polytope\n",
            "Successfully installed polytope-0.2.5\n"
          ]
        }
      ]
    },
    {
      "cell_type": "code",
      "source": [
        "import numpy as np\n",
        "import polytope\n",
        "import matplotlib.pyplot as plt\n",
        "\n",
        "vertices = np.array([[3, 7], [10, 7], [8, 2], [5, 3]])\n",
        "poly = polytope.qhull(vertices)  # convex hull\n",
        "    # `poly` is an instance of the class `polytope.polytope.Polytope`,\n",
        "    # which is for representing convex polytopes.\n",
        "    # Nonconvex polytopes can be represented too,\n",
        "    # using the class `polytope.polytope.Region`.\n",
        "print('Halfspace representation of convex polytope:')\n",
        "print('matrix A:')\n",
        "print(poly.A)\n",
        "print('vector b:')\n",
        "print(poly.b)"
      ],
      "metadata": {
        "colab": {
          "base_uri": "https://localhost:8080/"
        },
        "id": "HE82asVRw3on",
        "outputId": "98bedc35-bc79-4958-882f-67cc72d33a75"
      },
      "execution_count": null,
      "outputs": [
        {
          "output_type": "stream",
          "name": "stdout",
          "text": [
            "Halfspace representation of convex polytope:\n",
            "matrix A:\n",
            "[[-0.31623 -0.94868]\n",
            " [ 0.92848 -0.37139]\n",
            " [-0.89443 -0.44721]\n",
            " [-0.       1.     ]]\n",
            "vector b:\n",
            "[-4.42719  6.68503 -5.81378  7.     ]\n"
          ]
        }
      ]
    },
    {
      "cell_type": "code",
      "source": [
        "poly.plot()\n",
        "plt.xlim(0,12)\n",
        "plt.ylim(0,8)\n",
        "plt.show()"
      ],
      "metadata": {
        "colab": {
          "base_uri": "https://localhost:8080/",
          "height": 435
        },
        "id": "aePYqYqL1PSG",
        "outputId": "c8b731ba-6ee2-4004-9092-699fe32c9aa0"
      },
      "execution_count": null,
      "outputs": [
        {
          "output_type": "display_data",
          "data": {
            "text/plain": [
              "<Figure size 640x480 with 1 Axes>"
            ],
            "image/png": "[encoded data removed]"
          },
          "metadata": {}
        }
      ]
    },
    {
      "cell_type": "markdown",
      "source": [
        "#**Quadratically Constrained Quadratic Program**\n",
        "\n",
        "General form of a quadratically constrained quadratic program (QCQP) is given below:\n",
        "\n",
        "\\begin{equation}\n",
        "\\begin{aligned}\n",
        "& \\underset{\\mathbf{x}}{\\text{minimize}}\n",
        "& & \\mathbf{x}^\\top \\mathbf{P}_0 \\mathbf{x} + \\mathbf{q}_0^\\top\\mathbf{x}, \\\\\n",
        "& \\text{subject to}\n",
        "& & \\begin{cases}\n",
        "    \\mathbf{x}^\\top \\mathbf{P}_i \\mathbf{x} + \\mathbf{q}_i^\\top\\mathbf{x} + r_i \\leq 0, \\\\\n",
        "    \\mathbf{A}\\mathbf{x} = \\mathbf{b}.\n",
        "    \\end{cases}\n",
        "\\end{aligned}\n",
        "\\end{equation}\n",
        "\n",
        "where $\\mathbf{P}_i$ are positive-definite."
      ],
      "metadata": {
        "id": "UlXPVvpMlPXR"
      }
    },
    {
      "cell_type": "markdown",
      "source": [
        "## Task 1\n",
        "\n",
        "Concider the following QCQP problem\n",
        "\\begin{equation}\n",
        "\\begin{aligned}\n",
        "\\min_{x} \\quad & x_1^2 + x_2^2\\\\\n",
        "\\textrm{s.t.} \\quad & (x_1 - 1)^2 + (x_2 - 1)^2 \\leq 1\\\\\n",
        "& (x_1 - 1)^2 + (x_2 + 1)^2 \\leq 1\n",
        "\\end{aligned}\n",
        "\\end{equation}\n",
        "Sketch the feasible set. Find the optimal point and optimal value."
      ],
      "metadata": {
        "id": "OME9dIld8Lgw"
      }
    },
    {
      "cell_type": "code",
      "source": [
        "import cvxpy as cp\n",
        "import numpy as np\n",
        "import matplotlib.pyplot as plt\n",
        "\n",
        "x = cp.Variable(2)\n",
        "P0 = np.array([[2, 0], [0, 2]])\n",
        "P1 = np.array([[2, 0], [0, 2]])\n",
        "q1 = np.array([[-2],[-2]])\n",
        "P2 = np.array([[2, 0], [0, 2]])\n",
        "q2 = np.array([[-2],[2]])\n",
        "\n",
        "objective = cp.Minimize((1/2)*cp.quad_form(x, P0))\n",
        "constraints = [(1/2)*cp.quad_form(x, P1) + q1.T @ x <= -1,\n",
        "               (1/2)*cp.quad_form(x, P2) + q2.T @ x <= -1]\n",
        "problem = cp.Problem(objective, constraints)\n",
        "\n",
        "solution = problem.solve(verbose=False)\n",
        "print(solution)\n",
        "print(x.value.T)\n",
        "\n",
        "ax = plt.gca()\n",
        "ax.clear()\n",
        "xc1 = np.array([1, 1])\n",
        "xc2 = np.array([1, -1])\n",
        "circle1 = plt.Circle(xc1, 1, fill=True)\n",
        "ax.add_patch(circle1)\n",
        "circle2 = plt.Circle(xc2, 1, fill=True)\n",
        "ax.add_patch(circle2)\n",
        "plt.xlim(-2,3)\n",
        "plt.ylim(-2,3)\n",
        "plt.grid()\n",
        "plt.show()"
      ],
      "metadata": {
        "id": "3RIcYGPL9rBS",
        "colab": {
          "base_uri": "https://localhost:8080/",
          "height": 523
        },
        "outputId": "faee8a52-f8d3-4d75-8a8d-bb445191691e"
      },
      "execution_count": null,
      "outputs": [
        {
          "output_type": "stream",
          "name": "stderr",
          "text": [
            "/usr/local/lib/python3.11/dist-packages/cvxpy/problems/problem.py:1504: UserWarning: Solution may be inaccurate. Try another solver, adjusting the solver settings, or solve with verbose=True for more information.\n",
            "  warnings.warn(\n"
          ]
        },
        {
          "output_type": "stream",
          "name": "stdout",
          "text": [
            "0.9999999465273566\n",
            "[9.99999973e-01 5.11252039e-09]\n"
          ]
        },
        {
          "output_type": "display_data",
          "data": {
            "text/plain": [
              "<Figure size 640x480 with 1 Axes>"
            ],
            "image/png": "[encoded data removed]"
          },
          "metadata": {}
        }
      ]
    },
    {
      "cell_type": "markdown",
      "source": [
        "#**Second-Order Сone Programming**\n",
        "The general form of a Second-order cone program (SOCP) is:\n",
        "\n",
        "\\begin{equation}\n",
        "\\begin{aligned}\n",
        "& \\underset{\\mathbf{x}}{\\text{minimize}}\n",
        "& & \\mathbf{f}^\\top\\mathbf{x}, \\\\\n",
        "& \\text{subject to}\n",
        "& & \\begin{cases}\n",
        "    ||\\mathbf{A}_i\\mathbf{x} + \\mathbf{b}_i||_2 \\leq\n",
        "     \\mathbf{c}_i^\\top \\mathbf{x} + d_i, \\\\\n",
        "    \\mathbf{F}\\mathbf{x} = \\mathbf{g}.\n",
        "    \\end{cases}\n",
        "\\end{aligned}\n",
        "\\end{equation}"
      ],
      "metadata": {
        "id": "7GyCfqw-wMGy"
      }
    },
    {
      "cell_type": "markdown",
      "source": [
        "#**Friction cones**\n",
        " A 2D mass is in contact with a single surface. This contact will remain fixed as long as the contact force $f^c = mg-f^{ext}$ lies within the Coulomb friction cone $C$.\n",
        "\n",
        " ![picture]( https://drive.google.com/uc?id=1ZMBRK3KDmMH9YktLVzqjv-eu23_esEVN)"
      ],
      "metadata": {
        "id": "9sTKxrE_wPtG"
      }
    },
    {
      "cell_type": "markdown",
      "source": [
        "Let $f$ be total reaction force, $f_n$ - normal component, $f_{fr}$ - tangential component or fricition force.\n",
        "\n",
        "Let $e_n$ be a unit vector normal to the surface at the point of contact\n",
        "\\begin{equation}\n",
        "f=f_n+f_{fr}\n",
        "\\end{equation}\n",
        "\n",
        "Then defining $E_t = [e_{t,1}, e_{t,2}]=null(e_n^T)$, be an orthonormal basis in the tangential space to the surface we can write\n",
        "\\begin{equation}\n",
        "f=e_n n +E_t t \\\\\n",
        "f_n = e_n n \\\\\n",
        "f_{fr} = E_t t, t \\in [t_1, t_2]\n",
        "\\end{equation}\n",
        "We can describe the friction cone\n",
        "\\begin{equation}\n",
        "|| E_t^T f || \\leq \\mu e_n^T f\n",
        "\\end{equation}"
      ],
      "metadata": {
        "id": "PnGSxCUBJCLZ"
      }
    },
    {
      "cell_type": "markdown",
      "source": [
        "Links: [Вывод для конуса трения](https://scaron.info/robotics/friction-cones.html#coulomb-friction)"
      ],
      "metadata": {
        "id": "G8d1mfB4EErB"
      }
    },
    {
      "cell_type": "markdown",
      "source": [
        "## Task 2\n",
        "Assume that you have a walking robot standing on 4 feet. We model the robot as a point-mass with four reaction forces acting on it:\n",
        "\\begin{equation}\n",
        "    \\begin{cases}\n",
        "    m\\mathbf{\\ddot{r}_c}=\\mathbf{f_1}+\\mathbf{f_2}+\\mathbf{f_3}+\\mathbf{f_4}+m\\mathbf{g}\\\\\n",
        "    0= \\sum\\limits_{i=1}^{4}(\\mathbf{r_i}-\\mathbf{r_C})\\times \\mathbf{f_i}\n",
        "    \\end{cases}\n",
        "\\end{equation}\n",
        "where $\\mathbf{r_C} \\in \\mathbb{R}^3$ is the position of the center of mass of the robot, $\\mathbf{f_i}\\in \\mathbb{R}^3$ are the reaction forces, $\\mathbf{r_i}\\in \\mathbb{R}^3$ are the positions of the feet, $m$ is the mass of the robot and $\\mathbf{g}=\\begin{bmatrix}\n",
        "    0\\\\0\\\\-9.8\n",
        "\\end{bmatrix}$ is the gravitational vector.\n",
        "\n",
        "We additionally assume that the reaction forces lie in the friction cone, with friction coefficient $\\mu$.\n",
        "\n",
        "> Given $\\mathbf{r_C}$, and $\\mathbf{r_i}$ find if there exist reaction forces that allow the robot to maintain static stability with $\\mathbf{\\ddot{r}_c}=0$, given that the robot stands on horizontal ground."
      ],
      "metadata": {
        "id": "Mv_bISlILNaA"
      }
    },
    {
      "cell_type": "markdown",
      "source": [
        "\\begin{equation}\n",
        "    \\begin{cases}\n",
        "    0 =\\mathbf{f_1}+\\mathbf{f_2}+\\mathbf{f_3}+\\mathbf{f_4}+m\\mathbf{g}\\\\\n",
        "    0= \\sum\\limits_{i=1}^{4}(\\mathbf{r_i}-\\mathbf{r_C})\\times \\mathbf{f_i}\n",
        "    \\end{cases}\n",
        "\\end{equation}\n",
        "\n",
        "\\begin{equation}\n",
        "n(r-r_0) = 0 \\\\\n",
        "n = \\begin{bmatrix}\n",
        "0 \\\\ 0 \\\\ 1\n",
        "\\end{bmatrix}\n",
        "\\end{equation}\n",
        "Using left-null space of $n$ we find a basis for the horisontal ground\n",
        "\\begin{equation}\n",
        "e_1 =\n",
        "\\begin{bmatrix}\n",
        "0 & -1\\\\\n",
        "1 & 0 \\\\\n",
        "0 & 0\n",
        "\\end{bmatrix}\n",
        "\\end{equation}\n",
        "\n",
        "We use this basis to generate the contact points of the four feet.\n",
        "$$\n",
        "r_i=\\alpha_ie_{1}[0]+\\beta_ie_{1}[1]\n",
        "$$\n",
        "After that we can calculate the position of the center of mass.\n",
        "We use skew-symetric matrix to express the cross product:  $(r_i-r_c)\\times f_i=R_{i[\\times]}f_i$, where\n",
        "$$\n",
        "R_{i[\\times]}=R_{\\times}(r_i-r_c)\n",
        "$$.\n",
        "So the equations of the robot dynamics are:\n",
        "$$\n",
        "f_1+f_2+f_3+f_4=-mg\\\\\n",
        "\\sum_{i=1}^{4} R_{i[\\times]}f_i=0\n",
        "$$\n",
        "We combine these two equations into one equation:\n",
        "$$\n",
        "\\begin{bmatrix}\n",
        "I_{3×3} & I_{3×3} & I_{3×3} & I_{3×3}\\\\\n",
        "R_{1[\\times]} & R_{2[\\times]} & R_{3[\\times]} & R_{4[\\times]}\n",
        "\\end{bmatrix}\n",
        "\\begin{bmatrix}\n",
        "f_1 \\\\ f_2 \\\\f_3\\\\f_4\n",
        "\\end{bmatrix}=\n",
        "\\begin{bmatrix}\n",
        "-mg\\\\0_{1\\times 3}\n",
        "\\end{bmatrix}\n",
        "$$\n",
        "and can rewrite the previous equation in the form:\n",
        "$$Af=b$$\n",
        "where $f=[f_1,f_2,f_3,f_4]^T$\n",
        "and it defines an equality constraint for our optimization problem.\n",
        "\n",
        "We choose cost function as sum of norm of reaction force because we need find the smallest recation forces that keep the robot standing.\n",
        "Also the reaction forces lie in the friction cone, with friction coefficient\n",
        "$µ$ and this means that each reaction force should have the following cone constraint:\n",
        "$$\n",
        "||e_{t1}^Tf_i|| ≤ µn_1^Tf_i\n",
        "$$\n",
        "And the final optimization problem is:\n",
        "$$\n",
        "\\begin{equation}\n",
        "\\begin{aligned}\n",
        "\\min_{f_i, i=1,..,4} \\quad & \\sum_{i=1}^{4}||f_i||\\\\\n",
        "\\textrm{s.t.} \\quad & Af =b\\\\\n",
        " & ||e_{t1}^Tf_i|| ≤ µn_1^Tf_i \\\\\n",
        "&  i=1,2,3,4\n",
        "\\end{aligned}\n",
        "\\end{equation}\n",
        "$$\n",
        "\n",
        "\n"
      ],
      "metadata": {
        "id": "N2YRAtS_NmMd"
      }
    },
    {
      "cell_type": "code",
      "source": [],
      "metadata": {
        "id": "eJI3oN-ALN62"
      },
      "execution_count": null,
      "outputs": []
    }
  ]
}