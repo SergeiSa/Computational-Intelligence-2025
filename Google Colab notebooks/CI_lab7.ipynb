{
  "nbformat": 4,
  "nbformat_minor": 0,
  "metadata": {
    "colab": {
      "provenance": []
    },
    "kernelspec": {
      "name": "python3",
      "display_name": "Python 3"
    },
    "language_info": {
      "name": "python"
    }
  },
  "cells": [
    {
      "cell_type": "markdown",
      "source": [
        "#**SDP**\n",
        "\n",
        "Consider a discrete-time system $\\mathbf{x}(k+1) = \\mathbf{A}\\mathbf{x}(k) + \\mathbf{B}\\mathbf{u}(k)$\n",
        "We need to find a state feedback controller of the form\n",
        "\\begin{equation}\n",
        "\\mathbf{u}(k) = \\mathbf{K}\\mathbf{x}(k)\n",
        "\\end{equation}\n",
        "such that the closed-loop system namely\n",
        "\\begin{equation}\n",
        "\\begin{gathered}\n",
        "\\mathbf{\\dot{x}}(k+1) = \\mathbf{(A+BK)}\\mathbf{x}(k)\n",
        "\\end{gathered}\n",
        "\\end{equation} is Schur stable."
      ],
      "metadata": {
        "id": "UlXPVvpMlPXR"
      }
    },
    {
      "cell_type": "code",
      "source": [
        "import numpy as np\n",
        "import cvxpy as cp\n",
        "\n",
        "size_x = 4\n",
        "size_u = 2\n",
        "\n",
        "np.random.seed(1)\n",
        "\n",
        "# A = np.array([[0, 0, 1, 0], [0, 0, 0, 1], [-0.5, 0, -2.5, 1], [0, -0.5, 1, -2]])\n",
        "# B = np.array([[0, 0], [0, 0], [1, 0], [0, 1]])\n",
        "\n",
        "A = np.random.randn(size_x, size_x) - 1*np.eye(size_x)\n",
        "B = 0.3*np.random.randn(size_x, size_u)\n",
        "\n",
        "Q = cp.Variable((size_x, size_x), symmetric=True)\n",
        "L = cp.Variable((size_u, size_x))\n",
        "\n",
        "LMI = cp.bmat([[Q, A@Q+B@L],\n",
        "               [(A@Q+B@L).T , Q]])\n",
        "\n",
        "constraints = [Q >> 0.0001*np.eye(size_x), LMI >> 0.0001*np.eye(2*size_x)]\n",
        "prob = cp.Problem(cp.Minimize(0), constraints=constraints)\n",
        "\n",
        "result = prob.solve(verbose=False)\n",
        "\n",
        "if result < 1:\n",
        "    K = L.value @ np.linalg.pinv(Q.value)\n",
        "    print(\"State feedback controller gain(K):\")\n",
        "    print(K)\n",
        "else:\n",
        "    print(\"no solution\")"
      ],
      "metadata": {
        "colab": {
          "base_uri": "https://localhost:8080/"
        },
        "id": "ugxTnz8I2w6h",
        "outputId": "f47b81b7-a053-458b-9b9e-6da2d145ac00"
      },
      "execution_count": null,
      "outputs": [
        {
          "output_type": "stream",
          "name": "stdout",
          "text": [
            "State feedback controller gain(K):\n",
            "[[  7.19114796 -21.53871979   5.61532683  16.6656719 ]\n",
            " [-14.28678065  53.90301584 -21.37635647 -26.37477305]]\n"
          ]
        }
      ]
    },
    {
      "cell_type": "code",
      "source": [],
      "metadata": {
        "id": "4pQyTKTEeP1v"
      },
      "execution_count": null,
      "outputs": []
    }
  ]
}