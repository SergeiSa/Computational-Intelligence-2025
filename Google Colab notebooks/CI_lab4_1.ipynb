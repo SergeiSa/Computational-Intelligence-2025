{
  "nbformat": 4,
  "nbformat_minor": 0,
  "metadata": {
    "colab": {
      "provenance": []
    },
    "kernelspec": {
      "name": "python3",
      "display_name": "Python 3"
    },
    "language_info": {
      "name": "python"
    }
  },
  "cells": [
    {
      "cell_type": "markdown",
      "source": [
        "#**Linear Programming**\n",
        "\n",
        "## Task 1\n",
        "\n",
        "Concider the following Linear problem\n",
        "\\begin{equation}\n",
        "\\begin{aligned}\n",
        "\\min_{x} \\quad & x_1 + x_2\\\\\n",
        "\\textrm{s.t.} \\quad & 9x_1 + 3x_2 \\leq 56\\\\\n",
        "& -7x_1 + 9x_2 \\leq 56\\\\\n",
        "& -1 \\leq x \\leq 1\n",
        "\\end{aligned}\n",
        "\\end{equation}\n",
        "\n",
        "Formulate the problem using CVXPY and scipy.optimize.linprog\n",
        "https://docs.scipy.org/doc/scipy/reference/generated/scipy.optimize.linprog.html"
      ],
      "metadata": {
        "id": "QnHugGQkaW5G"
      }
    },
    {
      "cell_type": "code",
      "source": [
        "import cvxpy as cp\n",
        "import numpy as np\n",
        "from scipy.optimize import linprog\n",
        "\n",
        "x = cp.Variable(shape=(2,1))\n",
        "A = np.array([[9,3],[-7,9]])\n",
        "\n",
        "constraints = [cp.matmul(A, x) <= 56, x<=1, x>=-1]\n",
        "objective = cp.Minimize(x[0]+x[1])\n",
        "problem = cp.Problem(objective, constraints)\n",
        "\n",
        "solution = problem.solve()\n",
        "print(solution)\n",
        "print(x.value.T)\n",
        "\n",
        "b = np.array([56, 56])\n",
        "x0_bounds = (-1, 1)\n",
        "x1_bounds = (-1, 1)\n",
        "c = [1, 1]\n",
        "\n",
        "res = linprog(c, A_ub=A, b_ub=b, bounds=[x0_bounds\n",
        "        , x1_bounds])\n",
        "print(res.x)"
      ],
      "metadata": {
        "id": "ev8mFpvzxD2K",
        "colab": {
          "base_uri": "https://localhost:8080/"
        },
        "outputId": "c1cb1bd8-b1fc-4bae-84ef-98dccdf8b929"
      },
      "execution_count": null,
      "outputs": [
        {
          "output_type": "stream",
          "name": "stdout",
          "text": [
            "-1.9999999994829993\n",
            "[[-1. -1.]]\n",
            "[-1. -1.]\n"
          ]
        }
      ]
    },
    {
      "cell_type": "markdown",
      "source": [
        "## Task 2\n",
        "You are given three non empty sets:\n",
        "\n",
        "\\begin{equation*}\n",
        "\\begin{aligned}\n",
        "x_{(1)},...,x_{(n)} \\\\\n",
        "y_{(1)},...,y_{(m)} \\\\\n",
        "z_{(1)},...,z_{(p)} \\\\\n",
        "\\end{aligned}\n",
        "\\end{equation*} in $\\mathbb{R}^n$ where you have to find corresponding affine functions in the following form:\n",
        "\\begin{equation}\n",
        "    f_i(\\mu) = a_i^T\\mu -b_i, \\; i=1,2,3, \\; \\mu = x,y,z\n",
        "\\end{equation} subject to the following constraints:\n",
        "\\begin{equation*}\n",
        "\\begin{aligned}\n",
        "\\quad & f_1(x_{(j)}) > max \\{f_2(x_{(j)}), f_3(x_{(j)})\\}, \\; j = 1,...,n\\,\\\\\n",
        "  \\quad & f_2(y_{(j)}) > max \\{f_1(y_{(j)}), f_3(y_{(j)})\\}, \\; j = 1,...,m\\,\\\\\n",
        "  \\quad & f_3(z_{(j)}) > max \\{f_1(z_{(j)}), f_2(z_{(j)})\\}, \\; j = 1,...,p\\,\\\\\n",
        " \\quad & a_1 + a_2 + a_3 = 0, \\\\\n",
        " \\quad & b_1 + b_2 + b_3 = 0 ,\n",
        "\\end{aligned}\n",
        "\\end{equation*}\n",
        "> Use the following script for generating three sets in $\\mathbf{R}^2$ and solve the latter problem using CVXPY"
      ],
      "metadata": {
        "id": "gNhRnVjracly"
      }
    },
    {
      "cell_type": "code",
      "source": [
        "import numpy as np\n",
        "import cvxpy as cp\n",
        "import matplotlib.pyplot as plt\n",
        "import random\n",
        "from random import random\n",
        "import math\n",
        "\n",
        "\n",
        "def clusters(n, points, centers, r):\n",
        "    sets = []\n",
        "    def cluster(points, center, radius):\n",
        "        npoints = 50\n",
        "        r = radius\n",
        "        t = np.linspace(0, 2*np.pi, npoints, endpoint=False)\n",
        "        x = center[0] + r * np.cos(t) + np.random.uniform(-0.2,0.2,t.shape[0])\n",
        "        y = center[1] + r * np.sin(t) + np.random.uniform(-0.2,0.2,t.shape[0])\n",
        "        return np.vstack((x,y))\n",
        "\n",
        "    sets = []\n",
        "    for i in range(n):\n",
        "        set_i = cluster(points, centers[i], r)\n",
        "        sets.append(set_i)\n",
        "    return sets\n",
        "\n",
        "sets = np.array(clusters(3, 100, [(2,3), (4,6), (3, 8)], 1.0))\n",
        "\n",
        "def get_circle(U):\n",
        "    cx = cp.Variable()\n",
        "    cy = cp.Variable()\n",
        "    obj = cp.Minimize(cp.norm(cp.vstack((U[0,:] - cx, U[1,:] - cy))))\n",
        "    prob = cp.Problem(obj, [])\n",
        "    prob.solve()\n",
        "\n",
        "    cx, cy = map(lambda x: x.value, [cx, cy])\n",
        "    xc = np.array([cx, cy])\n",
        "    r_hat = (U.T - xc)\n",
        "    mean_r = np.sum(r_hat * r_hat, axis=1).mean()\n",
        "    r = np.sqrt(mean_r)\n",
        "    return xc, r\n",
        "\n",
        "def draw_circles(sets):\n",
        "    ax = plt.gca()\n",
        "    for set_i in sets:\n",
        "        xc, r = get_circle(set_i)\n",
        "        circle = plt.Circle(xc, r, fill=False)\n",
        "        ax.add_patch(circle)\n",
        "\n",
        "X = sets[0]\n",
        "Y = sets[1]\n",
        "Z = sets[2]\n",
        "\n",
        "a1 = cp.Variable(shape=(2,))\n",
        "b1 = cp.Variable(shape=(1,))\n",
        "a2 = cp.Variable(shape=(2,))\n",
        "b2 = cp.Variable(shape=(1,))\n",
        "a3 = cp.Variable(shape=(2,))\n",
        "b3 = cp.Variable(shape=(1,))\n",
        "\n",
        "constraints = [\n",
        "  a1.T @ X - b1 >= cp.maximum(a2.T @ X - b2,a3.T @ X - b3),\n",
        "  a2.T @ Y - b2 >= cp.maximum(a3.T @ Y - b3,a1.T @ Y - b1),\n",
        "  a3.T @ Z - b3 >= cp.maximum(a1.T @ Z - b1,a2.T @ Z - b2),\n",
        "  a1 + a2 + a3 == 0,\n",
        "  b1 + b2 + b3 == 0\n",
        "]\n",
        "\n",
        "obj = cp.Minimize(0)\n",
        "prob = cp.Problem(obj, constraints)\n",
        "prob.solve()\n",
        "\n",
        "a1,a2,a3,b1,b2,b3 = map(lambda x: x.value,[a1,a2,a3,b1,b2,b3])\n",
        "print(a1,b1)\n",
        "print(a2, b2)\n",
        "print(a3, b3)\n",
        "\n",
        "t = np.linspace(-7,7,100*14)\n",
        "u1 = a1-a2; u2 = a2-a3; u3 = a3-a1\n",
        "v1 = b1-b2; v2 = b2-b3; v3 = b3-b1\n",
        "line1 = (-t*u1[0]+v1)/u1[1]\n",
        "idx1 = np.where(u2.dot(np.array([t,line1]))-v2>0)[0]\n",
        "line2 = (-t*u2[0]+v2)/u2[1]\n",
        "idx2 = np.where(u3.dot(np.array([t,line2]))-v3>0)[0]\n",
        "line3 = (-t*u3[0]+v3)/u3[1]\n",
        "idx3 = np.where(u1.dot(np.array([t,line3]))-v1>0)[0]\n",
        "\n",
        "draw_circles(sets)\n",
        "\n",
        "plt.scatter(X[0,:], X[1,:])\n",
        "plt.scatter(Y[0,:], Y[1,:])\n",
        "plt.scatter(Z[0,:], Z[1,:])\n",
        "\n",
        "plt.plot(t[idx1],line1[idx1])\n",
        "plt.plot(t[idx2],line2[idx2])\n",
        "plt.plot(t[idx3],line3[idx3])\n",
        "plt.show()"
      ],
      "metadata": {
        "colab": {
          "base_uri": "https://localhost:8080/",
          "height": 447
        },
        "id": "W_FQfbYLafzU",
        "outputId": "8710f221-2d55-49f8-d39a-9ad5c8b0a667"
      },
      "execution_count": null,
      "outputs": [
        {
          "output_type": "stream",
          "name": "stdout",
          "text": [
            "[-0.57972949 -0.96772942] [-6.97028652]\n"
          ]
        },
        {
          "output_type": "display_data",
          "data": {
            "text/plain": [
              "<Figure size 640x480 with 1 Axes>"
            ],
            "image/png": "[encoded data removed]"
          },
          "metadata": {}
        }
      ]
    }
  ]
}